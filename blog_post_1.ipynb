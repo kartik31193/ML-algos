{
  "nbformat": 4,
  "nbformat_minor": 0,
  "metadata": {
    "colab": {
      "name": "blog_post_1",
      "provenance": [],
      "collapsed_sections": []
    },
    "kernelspec": {
      "name": "python3",
      "display_name": "Python 3"
    }
  },
  "cells": [
    {
      "cell_type": "code",
      "metadata": {
        "id": "H-gxqrjmQzjZ",
        "colab_type": "code",
        "colab": {}
      },
      "source": [
        "import pandas as pd\n",
        "import numpy as np\n",
        "from sklearn.model_selection import train_test_split, cross_val_score\n",
        "from sklearn.metrics import auc, accuracy_score, roc_auc_score\n",
        "import matplotlib.pyplot as plt\n",
        "%matplotlib inline\n",
        "import seaborn as sns"
      ],
      "execution_count": 0,
      "outputs": []
    },
    {
      "cell_type": "markdown",
      "metadata": {
        "id": "Qk4l23x8i4TD",
        "colab_type": "text"
      },
      "source": [
        "**Download Heart Disease Data Set to Notebook's local filesystem**\n",
        "\n",
        "---\n",
        "\n",
        "\n",
        "\n",
        "Heart Disease Data Set is a freely available data set on the UCI Machine Learning Repository portal.\n",
        "\n",
        "*   Heart Disease Data Set is hosted in URL -> (http://archive.ics.uci.edu/ml/machine-learning-databases/heart-disease/processed.cleveland.data).\n",
        "\n",
        "*   In the following cell, replace the link_to_data variable value with the URL mentioned above.\n",
        "\n",
        "\n",
        "\n",
        "In order to download the data from UCI Machine Learning Repository, we will be using \"wget\" library. Please install this library if have you have not installed it already.The command to install \"wget\" library is --- \"!pip install wget --user\"\n",
        "\n",
        "Now, the code in the cell below downloads the data set and saves it in the local filesystem. The name of downloaded file containing the data will be displayed in the output of this cell."
      ]
    },
    {
      "cell_type": "code",
      "metadata": {
        "id": "OjHomxjSMITI",
        "colab_type": "code",
        "outputId": "32461130-eaa8-4be2-e985-f4d0d07fd633",
        "colab": {
          "base_uri": "https://localhost:8080/",
          "height": 187
        }
      },
      "source": [
        "!pip install wget\n",
        "import wget\n",
        "\n",
        "link_to_data = 'http://archive.ics.uci.edu/ml/machine-learning-databases/heart-disease/processed.cleveland.data'\n",
        "ClevelandDataSet = wget.download(link_to_data)\n",
        "\n",
        "print(ClevelandDataSet)"
      ],
      "execution_count": 2,
      "outputs": [
        {
          "output_type": "stream",
          "text": [
            "Collecting wget\n",
            "  Downloading https://files.pythonhosted.org/packages/47/6a/62e288da7bcda82b935ff0c6cfe542970f04e29c756b0e147251b2fb251f/wget-3.2.zip\n",
            "Building wheels for collected packages: wget\n",
            "  Building wheel for wget (setup.py) ... \u001b[?25l\u001b[?25hdone\n",
            "  Created wheel for wget: filename=wget-3.2-cp36-none-any.whl size=9681 sha256=d0d18ecf34e12ef07198483b2fe98ee59e05836577854365a3efb9a427285430\n",
            "  Stored in directory: /root/.cache/pip/wheels/40/15/30/7d8f7cea2902b4db79e3fea550d7d7b85ecb27ef992b618f3f\n",
            "Successfully built wget\n",
            "Installing collected packages: wget\n",
            "Successfully installed wget-3.2\n",
            "processed.cleveland.data\n"
          ],
          "name": "stdout"
        }
      ]
    },
    {
      "cell_type": "markdown",
      "metadata": {
        "id": "c_5_azKaj4RM",
        "colab_type": "text"
      },
      "source": [
        "The csv file - processed.cleveland.data containing the heart disease data set is now availble on local filesystem.\n",
        "\n",
        "The downloaded data set contains the following attributes pertaining to heart disease.\n",
        "\n",
        "---\n",
        "\n",
        "\n",
        "\n",
        "**Data set Details**:\n",
        "\n",
        "---\n",
        "\n",
        "\n",
        "\n",
        "**age** - age in years\n",
        "\n",
        "**sex** - sex(1 = male; 0 = female)\n",
        "\n",
        "**cp** - chest pain type (1 = typical angina; 2 = atypical angina; 3 = non-anginal pain; 4 = asymptomatic)\n",
        "\n",
        "**trestbps** - resting blood pressure (in mm Hg on admission to the hospital)\n",
        "\n",
        "**chol** - serum cholestoral in mg/dl\n",
        "\n",
        "**fbs**- fasting blood sugar > 120 mg/dl (1 = true; 0 = false)\n",
        "\n",
        "**restecg** - resting electrocardiographic results (0 = normal; 1 = having ST-T; 2 = hypertrophy)\n",
        "\n",
        "**thalach** - maximum heart rate achieved\n",
        "\n",
        "**exang** - exercise induced angina (1 = yes; 0 = no)\n",
        "\n",
        "**oldpeak** - ST depression induced by exercise relative to rest\n",
        "\n",
        "**slope** - the slope of the peak exercise ST segment (1 = upsloping; 2 = flat; 3 = downsloping)\n",
        "\n",
        "**ca** - number of major vessels (0-3) colored by flourosopy\n",
        "\n",
        "**thal** - 3 = normal; 6 = fixed defect; 7 = reversable defect\n",
        "\n",
        "**num** - the predicted attribute - diagnosis of heart disease (angiographic disease status) \n",
        "\n",
        "(Value 0 = < 50% diameter narrowing; Value 1 = > 50% diameter narrowing)\n",
        "\n",
        "---\n",
        "\n",
        "\n",
        "\n",
        "**Load and explore data**\n",
        "\n",
        "---\n",
        "\n",
        "\n",
        "\n",
        "In this section you will load the data as Pandas DataFrame and perform a basic exploration.\n",
        "\n",
        "Let us now load the data in the csv file - processed.cleveland.data into a Pandas DataFrame using code below."
      ]
    },
    {
      "cell_type": "code",
      "metadata": {
        "id": "_fV1-ASlOS1c",
        "colab_type": "code",
        "outputId": "59f3b335-9d0a-48d8-c5c2-93042155eb74",
        "colab": {
          "base_uri": "https://localhost:8080/",
          "height": 204
        }
      },
      "source": [
        "import pandas as pd\n",
        "\n",
        "col_names = ['age','sex','cp','restbp','chol','fbs','restecg','thalach','exang','oldpeak','slope','ca','thal','num']\n",
        "\n",
        "heart_df = pd.read_csv(ClevelandDataSet, sep=',', header=None, names=col_names, na_filter= True, na_values= {'ca': '?', 'thal': '?'})\n",
        "heart_df.head()"
      ],
      "execution_count": 5,
      "outputs": [
        {
          "output_type": "execute_result",
          "data": {
            "text/html": [
              "<div>\n",
              "<style scoped>\n",
              "    .dataframe tbody tr th:only-of-type {\n",
              "        vertical-align: middle;\n",
              "    }\n",
              "\n",
              "    .dataframe tbody tr th {\n",
              "        vertical-align: top;\n",
              "    }\n",
              "\n",
              "    .dataframe thead th {\n",
              "        text-align: right;\n",
              "    }\n",
              "</style>\n",
              "<table border=\"1\" class=\"dataframe\">\n",
              "  <thead>\n",
              "    <tr style=\"text-align: right;\">\n",
              "      <th></th>\n",
              "      <th>age</th>\n",
              "      <th>sex</th>\n",
              "      <th>cp</th>\n",
              "      <th>restbp</th>\n",
              "      <th>chol</th>\n",
              "      <th>fbs</th>\n",
              "      <th>restecg</th>\n",
              "      <th>thalach</th>\n",
              "      <th>exang</th>\n",
              "      <th>oldpeak</th>\n",
              "      <th>slope</th>\n",
              "      <th>ca</th>\n",
              "      <th>thal</th>\n",
              "      <th>num</th>\n",
              "    </tr>\n",
              "  </thead>\n",
              "  <tbody>\n",
              "    <tr>\n",
              "      <th>0</th>\n",
              "      <td>63.0</td>\n",
              "      <td>1.0</td>\n",
              "      <td>1.0</td>\n",
              "      <td>145.0</td>\n",
              "      <td>233.0</td>\n",
              "      <td>1.0</td>\n",
              "      <td>2.0</td>\n",
              "      <td>150.0</td>\n",
              "      <td>0.0</td>\n",
              "      <td>2.3</td>\n",
              "      <td>3.0</td>\n",
              "      <td>0.0</td>\n",
              "      <td>6.0</td>\n",
              "      <td>0</td>\n",
              "    </tr>\n",
              "    <tr>\n",
              "      <th>1</th>\n",
              "      <td>67.0</td>\n",
              "      <td>1.0</td>\n",
              "      <td>4.0</td>\n",
              "      <td>160.0</td>\n",
              "      <td>286.0</td>\n",
              "      <td>0.0</td>\n",
              "      <td>2.0</td>\n",
              "      <td>108.0</td>\n",
              "      <td>1.0</td>\n",
              "      <td>1.5</td>\n",
              "      <td>2.0</td>\n",
              "      <td>3.0</td>\n",
              "      <td>3.0</td>\n",
              "      <td>2</td>\n",
              "    </tr>\n",
              "    <tr>\n",
              "      <th>2</th>\n",
              "      <td>67.0</td>\n",
              "      <td>1.0</td>\n",
              "      <td>4.0</td>\n",
              "      <td>120.0</td>\n",
              "      <td>229.0</td>\n",
              "      <td>0.0</td>\n",
              "      <td>2.0</td>\n",
              "      <td>129.0</td>\n",
              "      <td>1.0</td>\n",
              "      <td>2.6</td>\n",
              "      <td>2.0</td>\n",
              "      <td>2.0</td>\n",
              "      <td>7.0</td>\n",
              "      <td>1</td>\n",
              "    </tr>\n",
              "    <tr>\n",
              "      <th>3</th>\n",
              "      <td>37.0</td>\n",
              "      <td>1.0</td>\n",
              "      <td>3.0</td>\n",
              "      <td>130.0</td>\n",
              "      <td>250.0</td>\n",
              "      <td>0.0</td>\n",
              "      <td>0.0</td>\n",
              "      <td>187.0</td>\n",
              "      <td>0.0</td>\n",
              "      <td>3.5</td>\n",
              "      <td>3.0</td>\n",
              "      <td>0.0</td>\n",
              "      <td>3.0</td>\n",
              "      <td>0</td>\n",
              "    </tr>\n",
              "    <tr>\n",
              "      <th>4</th>\n",
              "      <td>41.0</td>\n",
              "      <td>0.0</td>\n",
              "      <td>2.0</td>\n",
              "      <td>130.0</td>\n",
              "      <td>204.0</td>\n",
              "      <td>0.0</td>\n",
              "      <td>2.0</td>\n",
              "      <td>172.0</td>\n",
              "      <td>0.0</td>\n",
              "      <td>1.4</td>\n",
              "      <td>1.0</td>\n",
              "      <td>0.0</td>\n",
              "      <td>3.0</td>\n",
              "      <td>0</td>\n",
              "    </tr>\n",
              "  </tbody>\n",
              "</table>\n",
              "</div>"
            ],
            "text/plain": [
              "    age  sex   cp  restbp   chol  fbs  ...  exang  oldpeak  slope   ca  thal  num\n",
              "0  63.0  1.0  1.0   145.0  233.0  1.0  ...    0.0      2.3    3.0  0.0   6.0    0\n",
              "1  67.0  1.0  4.0   160.0  286.0  0.0  ...    1.0      1.5    2.0  3.0   3.0    2\n",
              "2  67.0  1.0  4.0   120.0  229.0  0.0  ...    1.0      2.6    2.0  2.0   7.0    1\n",
              "3  37.0  1.0  3.0   130.0  250.0  0.0  ...    0.0      3.5    3.0  0.0   3.0    0\n",
              "4  41.0  0.0  2.0   130.0  204.0  0.0  ...    0.0      1.4    1.0  0.0   3.0    0\n",
              "\n",
              "[5 rows x 14 columns]"
            ]
          },
          "metadata": {
            "tags": []
          },
          "execution_count": 5
        }
      ]
    },
    {
      "cell_type": "code",
      "metadata": {
        "id": "yLyqw9roOS-g",
        "colab_type": "code",
        "outputId": "dd67c7b1-974d-4eb8-ff5a-625e8b9d8933",
        "colab": {
          "base_uri": "https://localhost:8080/",
          "height": 51
        }
      },
      "source": [
        "(samples, attributes) = heart_df.shape\n",
        "print(\"No. of Sample data =\", samples )\n",
        "print(\"No. of Attributes  =\", attributes)"
      ],
      "execution_count": 4,
      "outputs": [
        {
          "output_type": "stream",
          "text": [
            "No. of Sample data = 303\n",
            "No. of Attributes  = 14\n"
          ],
          "name": "stdout"
        }
      ]
    },
    {
      "cell_type": "markdown",
      "metadata": {
        "id": "DW5nyVXKmMu3",
        "colab_type": "text"
      },
      "source": [
        "We have 303 rows of sample data with 14 columns of data per sample.\n",
        "\n",
        "\n",
        "---\n",
        "\n",
        "\n",
        "**Prepare the target data**\n",
        "\n",
        "\n",
        "In this section, we transform the existing DataFrame to derive the target data that contains the prediction value for the corresponding sample data.\n",
        "\n",
        "The goal of the model here is to predict if a patient has a heart problem or not. But the data set currently available does not have this information. However, this information can be derived from the 'num' attribute. \n",
        "\n",
        "The '**num**' column and its values pertains to number of major vessels with more than 50% narrowed (values- 0,1,2,3 or 4) for the corresponding sample data.\n",
        "\n",
        "\n",
        "Therefore, the target column '**diagnosed**' can derived as ...\n",
        "\n",
        "'**diagnosed**' is '0' when '**num**' = 0 , indicating normal heart functioning\n",
        "\n",
        "'**diagnosed**' is '1' when '**num'** > 0 , indicating a heart problem."
      ]
    },
    {
      "cell_type": "code",
      "metadata": {
        "id": "pl1LLQkuOb2V",
        "colab_type": "code",
        "outputId": "6ebb03fd-dd17-4dfa-ffe4-4253db3ca358",
        "colab": {
          "base_uri": "https://localhost:8080/",
          "height": 204
        }
      },
      "source": [
        "heart_df['diagnosed'] = heart_df['num'].map(lambda d: 1 if d > 0 else 0)\n",
        "heart_df = heart_df.drop('num', 1)\n",
        "heart_df.head()"
      ],
      "execution_count": 6,
      "outputs": [
        {
          "output_type": "execute_result",
          "data": {
            "text/html": [
              "<div>\n",
              "<style scoped>\n",
              "    .dataframe tbody tr th:only-of-type {\n",
              "        vertical-align: middle;\n",
              "    }\n",
              "\n",
              "    .dataframe tbody tr th {\n",
              "        vertical-align: top;\n",
              "    }\n",
              "\n",
              "    .dataframe thead th {\n",
              "        text-align: right;\n",
              "    }\n",
              "</style>\n",
              "<table border=\"1\" class=\"dataframe\">\n",
              "  <thead>\n",
              "    <tr style=\"text-align: right;\">\n",
              "      <th></th>\n",
              "      <th>age</th>\n",
              "      <th>sex</th>\n",
              "      <th>cp</th>\n",
              "      <th>restbp</th>\n",
              "      <th>chol</th>\n",
              "      <th>fbs</th>\n",
              "      <th>restecg</th>\n",
              "      <th>thalach</th>\n",
              "      <th>exang</th>\n",
              "      <th>oldpeak</th>\n",
              "      <th>slope</th>\n",
              "      <th>ca</th>\n",
              "      <th>thal</th>\n",
              "      <th>diagnosed</th>\n",
              "    </tr>\n",
              "  </thead>\n",
              "  <tbody>\n",
              "    <tr>\n",
              "      <th>0</th>\n",
              "      <td>63.0</td>\n",
              "      <td>1.0</td>\n",
              "      <td>1.0</td>\n",
              "      <td>145.0</td>\n",
              "      <td>233.0</td>\n",
              "      <td>1.0</td>\n",
              "      <td>2.0</td>\n",
              "      <td>150.0</td>\n",
              "      <td>0.0</td>\n",
              "      <td>2.3</td>\n",
              "      <td>3.0</td>\n",
              "      <td>0.0</td>\n",
              "      <td>6.0</td>\n",
              "      <td>0</td>\n",
              "    </tr>\n",
              "    <tr>\n",
              "      <th>1</th>\n",
              "      <td>67.0</td>\n",
              "      <td>1.0</td>\n",
              "      <td>4.0</td>\n",
              "      <td>160.0</td>\n",
              "      <td>286.0</td>\n",
              "      <td>0.0</td>\n",
              "      <td>2.0</td>\n",
              "      <td>108.0</td>\n",
              "      <td>1.0</td>\n",
              "      <td>1.5</td>\n",
              "      <td>2.0</td>\n",
              "      <td>3.0</td>\n",
              "      <td>3.0</td>\n",
              "      <td>1</td>\n",
              "    </tr>\n",
              "    <tr>\n",
              "      <th>2</th>\n",
              "      <td>67.0</td>\n",
              "      <td>1.0</td>\n",
              "      <td>4.0</td>\n",
              "      <td>120.0</td>\n",
              "      <td>229.0</td>\n",
              "      <td>0.0</td>\n",
              "      <td>2.0</td>\n",
              "      <td>129.0</td>\n",
              "      <td>1.0</td>\n",
              "      <td>2.6</td>\n",
              "      <td>2.0</td>\n",
              "      <td>2.0</td>\n",
              "      <td>7.0</td>\n",
              "      <td>1</td>\n",
              "    </tr>\n",
              "    <tr>\n",
              "      <th>3</th>\n",
              "      <td>37.0</td>\n",
              "      <td>1.0</td>\n",
              "      <td>3.0</td>\n",
              "      <td>130.0</td>\n",
              "      <td>250.0</td>\n",
              "      <td>0.0</td>\n",
              "      <td>0.0</td>\n",
              "      <td>187.0</td>\n",
              "      <td>0.0</td>\n",
              "      <td>3.5</td>\n",
              "      <td>3.0</td>\n",
              "      <td>0.0</td>\n",
              "      <td>3.0</td>\n",
              "      <td>0</td>\n",
              "    </tr>\n",
              "    <tr>\n",
              "      <th>4</th>\n",
              "      <td>41.0</td>\n",
              "      <td>0.0</td>\n",
              "      <td>2.0</td>\n",
              "      <td>130.0</td>\n",
              "      <td>204.0</td>\n",
              "      <td>0.0</td>\n",
              "      <td>2.0</td>\n",
              "      <td>172.0</td>\n",
              "      <td>0.0</td>\n",
              "      <td>1.4</td>\n",
              "      <td>1.0</td>\n",
              "      <td>0.0</td>\n",
              "      <td>3.0</td>\n",
              "      <td>0</td>\n",
              "    </tr>\n",
              "  </tbody>\n",
              "</table>\n",
              "</div>"
            ],
            "text/plain": [
              "    age  sex   cp  restbp   chol  ...  oldpeak  slope   ca  thal  diagnosed\n",
              "0  63.0  1.0  1.0   145.0  233.0  ...      2.3    3.0  0.0   6.0          0\n",
              "1  67.0  1.0  4.0   160.0  286.0  ...      1.5    2.0  3.0   3.0          1\n",
              "2  67.0  1.0  4.0   120.0  229.0  ...      2.6    2.0  2.0   7.0          1\n",
              "3  37.0  1.0  3.0   130.0  250.0  ...      3.5    3.0  0.0   3.0          0\n",
              "4  41.0  0.0  2.0   130.0  204.0  ...      1.4    1.0  0.0   3.0          0\n",
              "\n",
              "[5 rows x 14 columns]"
            ]
          },
          "metadata": {
            "tags": []
          },
          "execution_count": 6
        }
      ]
    },
    {
      "cell_type": "code",
      "metadata": {
        "id": "uu8jgqyjOTCS",
        "colab_type": "code",
        "outputId": "8a080cf5-f085-4c4c-bea1-37ab8aa1ee25",
        "colab": {
          "base_uri": "https://localhost:8080/",
          "height": 235
        }
      },
      "source": [
        "#rows having missing values\n",
        "null_data = heart_df[heart_df.isnull().any(axis=1)]\n",
        "null_data"
      ],
      "execution_count": 7,
      "outputs": [
        {
          "output_type": "execute_result",
          "data": {
            "text/html": [
              "<div>\n",
              "<style scoped>\n",
              "    .dataframe tbody tr th:only-of-type {\n",
              "        vertical-align: middle;\n",
              "    }\n",
              "\n",
              "    .dataframe tbody tr th {\n",
              "        vertical-align: top;\n",
              "    }\n",
              "\n",
              "    .dataframe thead th {\n",
              "        text-align: right;\n",
              "    }\n",
              "</style>\n",
              "<table border=\"1\" class=\"dataframe\">\n",
              "  <thead>\n",
              "    <tr style=\"text-align: right;\">\n",
              "      <th></th>\n",
              "      <th>age</th>\n",
              "      <th>sex</th>\n",
              "      <th>cp</th>\n",
              "      <th>restbp</th>\n",
              "      <th>chol</th>\n",
              "      <th>fbs</th>\n",
              "      <th>restecg</th>\n",
              "      <th>thalach</th>\n",
              "      <th>exang</th>\n",
              "      <th>oldpeak</th>\n",
              "      <th>slope</th>\n",
              "      <th>ca</th>\n",
              "      <th>thal</th>\n",
              "      <th>diagnosed</th>\n",
              "    </tr>\n",
              "  </thead>\n",
              "  <tbody>\n",
              "    <tr>\n",
              "      <th>87</th>\n",
              "      <td>53.0</td>\n",
              "      <td>0.0</td>\n",
              "      <td>3.0</td>\n",
              "      <td>128.0</td>\n",
              "      <td>216.0</td>\n",
              "      <td>0.0</td>\n",
              "      <td>2.0</td>\n",
              "      <td>115.0</td>\n",
              "      <td>0.0</td>\n",
              "      <td>0.0</td>\n",
              "      <td>1.0</td>\n",
              "      <td>0.0</td>\n",
              "      <td>NaN</td>\n",
              "      <td>0</td>\n",
              "    </tr>\n",
              "    <tr>\n",
              "      <th>166</th>\n",
              "      <td>52.0</td>\n",
              "      <td>1.0</td>\n",
              "      <td>3.0</td>\n",
              "      <td>138.0</td>\n",
              "      <td>223.0</td>\n",
              "      <td>0.0</td>\n",
              "      <td>0.0</td>\n",
              "      <td>169.0</td>\n",
              "      <td>0.0</td>\n",
              "      <td>0.0</td>\n",
              "      <td>1.0</td>\n",
              "      <td>NaN</td>\n",
              "      <td>3.0</td>\n",
              "      <td>0</td>\n",
              "    </tr>\n",
              "    <tr>\n",
              "      <th>192</th>\n",
              "      <td>43.0</td>\n",
              "      <td>1.0</td>\n",
              "      <td>4.0</td>\n",
              "      <td>132.0</td>\n",
              "      <td>247.0</td>\n",
              "      <td>1.0</td>\n",
              "      <td>2.0</td>\n",
              "      <td>143.0</td>\n",
              "      <td>1.0</td>\n",
              "      <td>0.1</td>\n",
              "      <td>2.0</td>\n",
              "      <td>NaN</td>\n",
              "      <td>7.0</td>\n",
              "      <td>1</td>\n",
              "    </tr>\n",
              "    <tr>\n",
              "      <th>266</th>\n",
              "      <td>52.0</td>\n",
              "      <td>1.0</td>\n",
              "      <td>4.0</td>\n",
              "      <td>128.0</td>\n",
              "      <td>204.0</td>\n",
              "      <td>1.0</td>\n",
              "      <td>0.0</td>\n",
              "      <td>156.0</td>\n",
              "      <td>1.0</td>\n",
              "      <td>1.0</td>\n",
              "      <td>2.0</td>\n",
              "      <td>0.0</td>\n",
              "      <td>NaN</td>\n",
              "      <td>1</td>\n",
              "    </tr>\n",
              "    <tr>\n",
              "      <th>287</th>\n",
              "      <td>58.0</td>\n",
              "      <td>1.0</td>\n",
              "      <td>2.0</td>\n",
              "      <td>125.0</td>\n",
              "      <td>220.0</td>\n",
              "      <td>0.0</td>\n",
              "      <td>0.0</td>\n",
              "      <td>144.0</td>\n",
              "      <td>0.0</td>\n",
              "      <td>0.4</td>\n",
              "      <td>2.0</td>\n",
              "      <td>NaN</td>\n",
              "      <td>7.0</td>\n",
              "      <td>0</td>\n",
              "    </tr>\n",
              "    <tr>\n",
              "      <th>302</th>\n",
              "      <td>38.0</td>\n",
              "      <td>1.0</td>\n",
              "      <td>3.0</td>\n",
              "      <td>138.0</td>\n",
              "      <td>175.0</td>\n",
              "      <td>0.0</td>\n",
              "      <td>0.0</td>\n",
              "      <td>173.0</td>\n",
              "      <td>0.0</td>\n",
              "      <td>0.0</td>\n",
              "      <td>1.0</td>\n",
              "      <td>NaN</td>\n",
              "      <td>3.0</td>\n",
              "      <td>0</td>\n",
              "    </tr>\n",
              "  </tbody>\n",
              "</table>\n",
              "</div>"
            ],
            "text/plain": [
              "      age  sex   cp  restbp   chol  ...  oldpeak  slope   ca  thal  diagnosed\n",
              "87   53.0  0.0  3.0   128.0  216.0  ...      0.0    1.0  0.0   NaN          0\n",
              "166  52.0  1.0  3.0   138.0  223.0  ...      0.0    1.0  NaN   3.0          0\n",
              "192  43.0  1.0  4.0   132.0  247.0  ...      0.1    2.0  NaN   7.0          1\n",
              "266  52.0  1.0  4.0   128.0  204.0  ...      1.0    2.0  0.0   NaN          1\n",
              "287  58.0  1.0  2.0   125.0  220.0  ...      0.4    2.0  NaN   7.0          0\n",
              "302  38.0  1.0  3.0   138.0  175.0  ...      0.0    1.0  NaN   3.0          0\n",
              "\n",
              "[6 rows x 14 columns]"
            ]
          },
          "metadata": {
            "tags": []
          },
          "execution_count": 7
        }
      ]
    },
    {
      "cell_type": "code",
      "metadata": {
        "id": "mmPCGdmuicO6",
        "colab_type": "code",
        "colab": {}
      },
      "source": [
        "#delete missing value containing rows\n",
        "heart_df = heart_df.dropna(how='any',axis=0)"
      ],
      "execution_count": 0,
      "outputs": []
    },
    {
      "cell_type": "code",
      "metadata": {
        "id": "m6PBCK3TSfXf",
        "colab_type": "code",
        "colab": {
          "base_uri": "https://localhost:8080/",
          "height": 729
        },
        "outputId": "8a01a1f3-efd7-4b9b-8662-5a9ba808a10e"
      },
      "source": [
        "for i,col in enumerate(heart_df.columns.values):\n",
        "    plt.subplot(5,3,i+1)\n",
        "    plt.scatter([i for i in range(297)],heart_df[col].values.tolist())\n",
        "    plt.title(col)\n",
        "    fig,ax=plt.gcf(),plt.gca()\n",
        "    fig.set_size_inches(10,10)\n",
        "    plt.tight_layout()\n",
        "plt.show()"
      ],
      "execution_count": 10,
      "outputs": [
        {
          "output_type": "display_data",
          "data": {
            "image/png": "[encoded data removed]",
            "text/plain": [
              "<Figure size 720x720 with 14 Axes>"
            ]
          },
          "metadata": {
            "tags": []
          }
        }
      ]
    },
    {
      "cell_type": "markdown",
      "metadata": {
        "_uuid": "292680a300ed85d67ba66e3a9a98b5b623d8aea5",
        "id": "EqQVZ17FVboX",
        "colab_type": "text"
      },
      "source": [
        "Let's change the column names to be a bit clearer,"
      ]
    },
    {
      "cell_type": "code",
      "metadata": {
        "_uuid": "f3caf3de0a7e6d4602b26a1e72bf42d42ef0aac0",
        "id": "tcUDQjc7VboZ",
        "colab_type": "code",
        "outputId": "90a77879-9969-498f-eac7-48493f314f5f",
        "colab": {
          "base_uri": "https://localhost:8080/",
          "height": 224
        }
      },
      "source": [
        "heart_df.columns = ['age', 'sex', 'chest_pain_type', 'resting_blood_pressure', 'cholesterol', 'fasting_blood_sugar', 'rest_ecg', 'max_heart_rate_achieved',\n",
        "       'exercise_induced_angina', 'st_depression', 'st_slope', 'num_major_vessels', 'thalassemia', 'target']\n",
        "heart_df.head(5)"
      ],
      "execution_count": 11,
      "outputs": [
        {
          "output_type": "execute_result",
          "data": {
            "text/html": [
              "<div>\n",
              "<style scoped>\n",
              "    .dataframe tbody tr th:only-of-type {\n",
              "        vertical-align: middle;\n",
              "    }\n",
              "\n",
              "    .dataframe tbody tr th {\n",
              "        vertical-align: top;\n",
              "    }\n",
              "\n",
              "    .dataframe thead th {\n",
              "        text-align: right;\n",
              "    }\n",
              "</style>\n",
              "<table border=\"1\" class=\"dataframe\">\n",
              "  <thead>\n",
              "    <tr style=\"text-align: right;\">\n",
              "      <th></th>\n",
              "      <th>age</th>\n",
              "      <th>sex</th>\n",
              "      <th>chest_pain_type</th>\n",
              "      <th>resting_blood_pressure</th>\n",
              "      <th>cholesterol</th>\n",
              "      <th>fasting_blood_sugar</th>\n",
              "      <th>rest_ecg</th>\n",
              "      <th>max_heart_rate_achieved</th>\n",
              "      <th>exercise_induced_angina</th>\n",
              "      <th>st_depression</th>\n",
              "      <th>st_slope</th>\n",
              "      <th>num_major_vessels</th>\n",
              "      <th>thalassemia</th>\n",
              "      <th>target</th>\n",
              "    </tr>\n",
              "  </thead>\n",
              "  <tbody>\n",
              "    <tr>\n",
              "      <th>0</th>\n",
              "      <td>63.0</td>\n",
              "      <td>1.0</td>\n",
              "      <td>1.0</td>\n",
              "      <td>145.0</td>\n",
              "      <td>233.0</td>\n",
              "      <td>1.0</td>\n",
              "      <td>2.0</td>\n",
              "      <td>150.0</td>\n",
              "      <td>0.0</td>\n",
              "      <td>2.3</td>\n",
              "      <td>3.0</td>\n",
              "      <td>0.0</td>\n",
              "      <td>6.0</td>\n",
              "      <td>0</td>\n",
              "    </tr>\n",
              "    <tr>\n",
              "      <th>1</th>\n",
              "      <td>67.0</td>\n",
              "      <td>1.0</td>\n",
              "      <td>4.0</td>\n",
              "      <td>160.0</td>\n",
              "      <td>286.0</td>\n",
              "      <td>0.0</td>\n",
              "      <td>2.0</td>\n",
              "      <td>108.0</td>\n",
              "      <td>1.0</td>\n",
              "      <td>1.5</td>\n",
              "      <td>2.0</td>\n",
              "      <td>3.0</td>\n",
              "      <td>3.0</td>\n",
              "      <td>1</td>\n",
              "    </tr>\n",
              "    <tr>\n",
              "      <th>2</th>\n",
              "      <td>67.0</td>\n",
              "      <td>1.0</td>\n",
              "      <td>4.0</td>\n",
              "      <td>120.0</td>\n",
              "      <td>229.0</td>\n",
              "      <td>0.0</td>\n",
              "      <td>2.0</td>\n",
              "      <td>129.0</td>\n",
              "      <td>1.0</td>\n",
              "      <td>2.6</td>\n",
              "      <td>2.0</td>\n",
              "      <td>2.0</td>\n",
              "      <td>7.0</td>\n",
              "      <td>1</td>\n",
              "    </tr>\n",
              "    <tr>\n",
              "      <th>3</th>\n",
              "      <td>37.0</td>\n",
              "      <td>1.0</td>\n",
              "      <td>3.0</td>\n",
              "      <td>130.0</td>\n",
              "      <td>250.0</td>\n",
              "      <td>0.0</td>\n",
              "      <td>0.0</td>\n",
              "      <td>187.0</td>\n",
              "      <td>0.0</td>\n",
              "      <td>3.5</td>\n",
              "      <td>3.0</td>\n",
              "      <td>0.0</td>\n",
              "      <td>3.0</td>\n",
              "      <td>0</td>\n",
              "    </tr>\n",
              "    <tr>\n",
              "      <th>4</th>\n",
              "      <td>41.0</td>\n",
              "      <td>0.0</td>\n",
              "      <td>2.0</td>\n",
              "      <td>130.0</td>\n",
              "      <td>204.0</td>\n",
              "      <td>0.0</td>\n",
              "      <td>2.0</td>\n",
              "      <td>172.0</td>\n",
              "      <td>0.0</td>\n",
              "      <td>1.4</td>\n",
              "      <td>1.0</td>\n",
              "      <td>0.0</td>\n",
              "      <td>3.0</td>\n",
              "      <td>0</td>\n",
              "    </tr>\n",
              "  </tbody>\n",
              "</table>\n",
              "</div>"
            ],
            "text/plain": [
              "    age  sex  chest_pain_type  ...  num_major_vessels  thalassemia  target\n",
              "0  63.0  1.0              1.0  ...                0.0          6.0       0\n",
              "1  67.0  1.0              4.0  ...                3.0          3.0       1\n",
              "2  67.0  1.0              4.0  ...                2.0          7.0       1\n",
              "3  37.0  1.0              3.0  ...                0.0          3.0       0\n",
              "4  41.0  0.0              2.0  ...                0.0          3.0       0\n",
              "\n",
              "[5 rows x 14 columns]"
            ]
          },
          "metadata": {
            "tags": []
          },
          "execution_count": 11
        }
      ]
    },
    {
      "cell_type": "markdown",
      "metadata": {
        "id": "Rjr-_TcIX4LN",
        "colab_type": "text"
      },
      "source": [
        "Converting age to a categorical variable"
      ]
    },
    {
      "cell_type": "code",
      "metadata": {
        "id": "7UmHnDA4W5pe",
        "colab_type": "code",
        "outputId": "d799100e-661e-4811-b511-97f6ec30e228",
        "colab": {
          "base_uri": "https://localhost:8080/",
          "height": 153
        }
      },
      "source": [
        "#set up bins\n",
        "bin = [25,40,50,60,70,80]\n",
        "#use pd.cut function can attribute the values into its specific bins\n",
        "category = pd.cut(heart_df.age,bin,labels=['25-40','40-50','50-60','60-70','70-80'])\n",
        "category = category.to_frame()\n",
        "category.columns = ['age_range']\n",
        "#concatenate age and its bin\n",
        "df_new = pd.concat([heart_df,category],axis = 1)\n",
        "print(df_new.head())\n"
      ],
      "execution_count": 12,
      "outputs": [
        {
          "output_type": "stream",
          "text": [
            "    age  sex  chest_pain_type  ...  thalassemia  target  age_range\n",
            "0  63.0  1.0              1.0  ...          6.0       0      60-70\n",
            "1  67.0  1.0              4.0  ...          3.0       1      60-70\n",
            "2  67.0  1.0              4.0  ...          7.0       1      60-70\n",
            "3  37.0  1.0              3.0  ...          3.0       0      25-40\n",
            "4  41.0  0.0              2.0  ...          3.0       0      40-50\n",
            "\n",
            "[5 rows x 15 columns]\n"
          ],
          "name": "stdout"
        }
      ]
    },
    {
      "cell_type": "code",
      "metadata": {
        "id": "XP5Y2Mw7c2ym",
        "colab_type": "code",
        "outputId": "8bd70e26-591e-4106-e7db-69af7ef5699e",
        "colab": {
          "base_uri": "https://localhost:8080/",
          "height": 224
        }
      },
      "source": [
        "#set up bins\n",
        "bin = [90,119,129,139,179,200]\n",
        "#use pd.cut function can attribute the values into its specific bins\n",
        "category = pd.cut(df_new.resting_blood_pressure,bin,labels=['90-119','119-129','129-139','139-179','179-200'])\n",
        "category = category.to_frame()\n",
        "category.columns = ['resting_blood_pressure_levels']\n",
        "#concatenate age and its bin\n",
        "df_new_1 = pd.concat([df_new,category],axis = 1)\n",
        "df_new_1.head()"
      ],
      "execution_count": 13,
      "outputs": [
        {
          "output_type": "execute_result",
          "data": {
            "text/html": [
              "<div>\n",
              "<style scoped>\n",
              "    .dataframe tbody tr th:only-of-type {\n",
              "        vertical-align: middle;\n",
              "    }\n",
              "\n",
              "    .dataframe tbody tr th {\n",
              "        vertical-align: top;\n",
              "    }\n",
              "\n",
              "    .dataframe thead th {\n",
              "        text-align: right;\n",
              "    }\n",
              "</style>\n",
              "<table border=\"1\" class=\"dataframe\">\n",
              "  <thead>\n",
              "    <tr style=\"text-align: right;\">\n",
              "      <th></th>\n",
              "      <th>age</th>\n",
              "      <th>sex</th>\n",
              "      <th>chest_pain_type</th>\n",
              "      <th>resting_blood_pressure</th>\n",
              "      <th>cholesterol</th>\n",
              "      <th>fasting_blood_sugar</th>\n",
              "      <th>rest_ecg</th>\n",
              "      <th>max_heart_rate_achieved</th>\n",
              "      <th>exercise_induced_angina</th>\n",
              "      <th>st_depression</th>\n",
              "      <th>st_slope</th>\n",
              "      <th>num_major_vessels</th>\n",
              "      <th>thalassemia</th>\n",
              "      <th>target</th>\n",
              "      <th>age_range</th>\n",
              "      <th>resting_blood_pressure_levels</th>\n",
              "    </tr>\n",
              "  </thead>\n",
              "  <tbody>\n",
              "    <tr>\n",
              "      <th>0</th>\n",
              "      <td>63.0</td>\n",
              "      <td>1.0</td>\n",
              "      <td>1.0</td>\n",
              "      <td>145.0</td>\n",
              "      <td>233.0</td>\n",
              "      <td>1.0</td>\n",
              "      <td>2.0</td>\n",
              "      <td>150.0</td>\n",
              "      <td>0.0</td>\n",
              "      <td>2.3</td>\n",
              "      <td>3.0</td>\n",
              "      <td>0.0</td>\n",
              "      <td>6.0</td>\n",
              "      <td>0</td>\n",
              "      <td>60-70</td>\n",
              "      <td>139-179</td>\n",
              "    </tr>\n",
              "    <tr>\n",
              "      <th>1</th>\n",
              "      <td>67.0</td>\n",
              "      <td>1.0</td>\n",
              "      <td>4.0</td>\n",
              "      <td>160.0</td>\n",
              "      <td>286.0</td>\n",
              "      <td>0.0</td>\n",
              "      <td>2.0</td>\n",
              "      <td>108.0</td>\n",
              "      <td>1.0</td>\n",
              "      <td>1.5</td>\n",
              "      <td>2.0</td>\n",
              "      <td>3.0</td>\n",
              "      <td>3.0</td>\n",
              "      <td>1</td>\n",
              "      <td>60-70</td>\n",
              "      <td>139-179</td>\n",
              "    </tr>\n",
              "    <tr>\n",
              "      <th>2</th>\n",
              "      <td>67.0</td>\n",
              "      <td>1.0</td>\n",
              "      <td>4.0</td>\n",
              "      <td>120.0</td>\n",
              "      <td>229.0</td>\n",
              "      <td>0.0</td>\n",
              "      <td>2.0</td>\n",
              "      <td>129.0</td>\n",
              "      <td>1.0</td>\n",
              "      <td>2.6</td>\n",
              "      <td>2.0</td>\n",
              "      <td>2.0</td>\n",
              "      <td>7.0</td>\n",
              "      <td>1</td>\n",
              "      <td>60-70</td>\n",
              "      <td>119-129</td>\n",
              "    </tr>\n",
              "    <tr>\n",
              "      <th>3</th>\n",
              "      <td>37.0</td>\n",
              "      <td>1.0</td>\n",
              "      <td>3.0</td>\n",
              "      <td>130.0</td>\n",
              "      <td>250.0</td>\n",
              "      <td>0.0</td>\n",
              "      <td>0.0</td>\n",
              "      <td>187.0</td>\n",
              "      <td>0.0</td>\n",
              "      <td>3.5</td>\n",
              "      <td>3.0</td>\n",
              "      <td>0.0</td>\n",
              "      <td>3.0</td>\n",
              "      <td>0</td>\n",
              "      <td>25-40</td>\n",
              "      <td>129-139</td>\n",
              "    </tr>\n",
              "    <tr>\n",
              "      <th>4</th>\n",
              "      <td>41.0</td>\n",
              "      <td>0.0</td>\n",
              "      <td>2.0</td>\n",
              "      <td>130.0</td>\n",
              "      <td>204.0</td>\n",
              "      <td>0.0</td>\n",
              "      <td>2.0</td>\n",
              "      <td>172.0</td>\n",
              "      <td>0.0</td>\n",
              "      <td>1.4</td>\n",
              "      <td>1.0</td>\n",
              "      <td>0.0</td>\n",
              "      <td>3.0</td>\n",
              "      <td>0</td>\n",
              "      <td>40-50</td>\n",
              "      <td>129-139</td>\n",
              "    </tr>\n",
              "  </tbody>\n",
              "</table>\n",
              "</div>"
            ],
            "text/plain": [
              "    age  sex  chest_pain_type  ...  target  age_range  resting_blood_pressure_levels\n",
              "0  63.0  1.0              1.0  ...       0      60-70                        139-179\n",
              "1  67.0  1.0              4.0  ...       1      60-70                        139-179\n",
              "2  67.0  1.0              4.0  ...       1      60-70                        119-129\n",
              "3  37.0  1.0              3.0  ...       0      25-40                        129-139\n",
              "4  41.0  0.0              2.0  ...       0      40-50                        129-139\n",
              "\n",
              "[5 rows x 16 columns]"
            ]
          },
          "metadata": {
            "tags": []
          },
          "execution_count": 13
        }
      ]
    },
    {
      "cell_type": "code",
      "metadata": {
        "id": "E7I3fPCxusBm",
        "colab_type": "code",
        "outputId": "c44cc906-f69c-44ed-b84f-1b82da4daef8",
        "colab": {
          "base_uri": "https://localhost:8080/",
          "height": 224
        }
      },
      "source": [
        "#set up bins\n",
        "bin = [125,200,239,600]\n",
        "#use pd.cut function can attribute the values into its specific bins\n",
        "category = pd.cut(df_new_1.cholesterol,bin,labels=['125-200','200-239','239-600'])\n",
        "category = category.to_frame()\n",
        "category.columns = ['cholesterol_levels']\n",
        "#concatenate age and its bin\n",
        "df_new_2 = pd.concat([df_new_1,category],axis = 1)\n",
        "df_new_2.head()"
      ],
      "execution_count": 14,
      "outputs": [
        {
          "output_type": "execute_result",
          "data": {
            "text/html": [
              "<div>\n",
              "<style scoped>\n",
              "    .dataframe tbody tr th:only-of-type {\n",
              "        vertical-align: middle;\n",
              "    }\n",
              "\n",
              "    .dataframe tbody tr th {\n",
              "        vertical-align: top;\n",
              "    }\n",
              "\n",
              "    .dataframe thead th {\n",
              "        text-align: right;\n",
              "    }\n",
              "</style>\n",
              "<table border=\"1\" class=\"dataframe\">\n",
              "  <thead>\n",
              "    <tr style=\"text-align: right;\">\n",
              "      <th></th>\n",
              "      <th>age</th>\n",
              "      <th>sex</th>\n",
              "      <th>chest_pain_type</th>\n",
              "      <th>resting_blood_pressure</th>\n",
              "      <th>cholesterol</th>\n",
              "      <th>fasting_blood_sugar</th>\n",
              "      <th>rest_ecg</th>\n",
              "      <th>max_heart_rate_achieved</th>\n",
              "      <th>exercise_induced_angina</th>\n",
              "      <th>st_depression</th>\n",
              "      <th>st_slope</th>\n",
              "      <th>num_major_vessels</th>\n",
              "      <th>thalassemia</th>\n",
              "      <th>target</th>\n",
              "      <th>age_range</th>\n",
              "      <th>resting_blood_pressure_levels</th>\n",
              "      <th>cholesterol_levels</th>\n",
              "    </tr>\n",
              "  </thead>\n",
              "  <tbody>\n",
              "    <tr>\n",
              "      <th>0</th>\n",
              "      <td>63.0</td>\n",
              "      <td>1.0</td>\n",
              "      <td>1.0</td>\n",
              "      <td>145.0</td>\n",
              "      <td>233.0</td>\n",
              "      <td>1.0</td>\n",
              "      <td>2.0</td>\n",
              "      <td>150.0</td>\n",
              "      <td>0.0</td>\n",
              "      <td>2.3</td>\n",
              "      <td>3.0</td>\n",
              "      <td>0.0</td>\n",
              "      <td>6.0</td>\n",
              "      <td>0</td>\n",
              "      <td>60-70</td>\n",
              "      <td>139-179</td>\n",
              "      <td>200-239</td>\n",
              "    </tr>\n",
              "    <tr>\n",
              "      <th>1</th>\n",
              "      <td>67.0</td>\n",
              "      <td>1.0</td>\n",
              "      <td>4.0</td>\n",
              "      <td>160.0</td>\n",
              "      <td>286.0</td>\n",
              "      <td>0.0</td>\n",
              "      <td>2.0</td>\n",
              "      <td>108.0</td>\n",
              "      <td>1.0</td>\n",
              "      <td>1.5</td>\n",
              "      <td>2.0</td>\n",
              "      <td>3.0</td>\n",
              "      <td>3.0</td>\n",
              "      <td>1</td>\n",
              "      <td>60-70</td>\n",
              "      <td>139-179</td>\n",
              "      <td>239-600</td>\n",
              "    </tr>\n",
              "    <tr>\n",
              "      <th>2</th>\n",
              "      <td>67.0</td>\n",
              "      <td>1.0</td>\n",
              "      <td>4.0</td>\n",
              "      <td>120.0</td>\n",
              "      <td>229.0</td>\n",
              "      <td>0.0</td>\n",
              "      <td>2.0</td>\n",
              "      <td>129.0</td>\n",
              "      <td>1.0</td>\n",
              "      <td>2.6</td>\n",
              "      <td>2.0</td>\n",
              "      <td>2.0</td>\n",
              "      <td>7.0</td>\n",
              "      <td>1</td>\n",
              "      <td>60-70</td>\n",
              "      <td>119-129</td>\n",
              "      <td>200-239</td>\n",
              "    </tr>\n",
              "    <tr>\n",
              "      <th>3</th>\n",
              "      <td>37.0</td>\n",
              "      <td>1.0</td>\n",
              "      <td>3.0</td>\n",
              "      <td>130.0</td>\n",
              "      <td>250.0</td>\n",
              "      <td>0.0</td>\n",
              "      <td>0.0</td>\n",
              "      <td>187.0</td>\n",
              "      <td>0.0</td>\n",
              "      <td>3.5</td>\n",
              "      <td>3.0</td>\n",
              "      <td>0.0</td>\n",
              "      <td>3.0</td>\n",
              "      <td>0</td>\n",
              "      <td>25-40</td>\n",
              "      <td>129-139</td>\n",
              "      <td>239-600</td>\n",
              "    </tr>\n",
              "    <tr>\n",
              "      <th>4</th>\n",
              "      <td>41.0</td>\n",
              "      <td>0.0</td>\n",
              "      <td>2.0</td>\n",
              "      <td>130.0</td>\n",
              "      <td>204.0</td>\n",
              "      <td>0.0</td>\n",
              "      <td>2.0</td>\n",
              "      <td>172.0</td>\n",
              "      <td>0.0</td>\n",
              "      <td>1.4</td>\n",
              "      <td>1.0</td>\n",
              "      <td>0.0</td>\n",
              "      <td>3.0</td>\n",
              "      <td>0</td>\n",
              "      <td>40-50</td>\n",
              "      <td>129-139</td>\n",
              "      <td>200-239</td>\n",
              "    </tr>\n",
              "  </tbody>\n",
              "</table>\n",
              "</div>"
            ],
            "text/plain": [
              "    age  sex  ...  resting_blood_pressure_levels  cholesterol_levels\n",
              "0  63.0  1.0  ...                        139-179             200-239\n",
              "1  67.0  1.0  ...                        139-179             239-600\n",
              "2  67.0  1.0  ...                        119-129             200-239\n",
              "3  37.0  1.0  ...                        129-139             239-600\n",
              "4  41.0  0.0  ...                        129-139             200-239\n",
              "\n",
              "[5 rows x 17 columns]"
            ]
          },
          "metadata": {
            "tags": []
          },
          "execution_count": 14
        }
      ]
    },
    {
      "cell_type": "markdown",
      "metadata": {
        "id": "zwnlYXCAy2tO",
        "colab_type": "text"
      },
      "source": [
        "maximum heart rate achieved(thalach)\n"
      ]
    },
    {
      "cell_type": "code",
      "metadata": {
        "id": "frLf-I_kxDgJ",
        "colab_type": "code",
        "colab": {
          "base_uri": "https://localhost:8080/",
          "height": 424
        },
        "outputId": "a92ea6c2-3ba2-4903-890c-82d82b9cd5ba"
      },
      "source": [
        "pd.crosstab(df_new_2.max_heart_rate_achieved,df_new_2.target).plot(kind=\"bar\",figsize=(20,6))\n",
        "plt.title('Heart Disease Frequency for max_heart_rate_achieved')\n",
        "plt.xlabel('max_heart_rate_achieved')\n",
        "plt.ylabel('Frequency')\n",
        "#plt.savefig('heartDiseaseAndcholesterol.png')\n",
        "plt.show()"
      ],
      "execution_count": 15,
      "outputs": [
        {
          "output_type": "display_data",
          "data": {
            "image/png": "[encoded data removed]",
            "text/plain": [
              "<Figure size 1440x432 with 1 Axes>"
            ]
          },
          "metadata": {
            "tags": []
          }
        }
      ]
    },
    {
      "cell_type": "markdown",
      "metadata": {
        "id": "0oOIRgeBcTcu",
        "colab_type": "text"
      },
      "source": [
        "**ST depression induced by exercise relative to rest (oldpeak)**\n",
        "\n",
        "In exercise, the heart will consume more oxygen and nutrient, which can introduce shortage of blood transmitted to the heart by coronary arteries.\n",
        "\n",
        "As we learned above, if myocardium lack blood for a long time, the cells in myocardium will be damaged, which can result in depression in ST segment. This feature will expose some not-easy-to-detect heart diseases."
      ]
    },
    {
      "cell_type": "code",
      "metadata": {
        "id": "2QYc-pL7z6kX",
        "colab_type": "code",
        "colab": {
          "base_uri": "https://localhost:8080/",
          "height": 411
        },
        "outputId": "9ebad67d-b130-412d-89b6-4edd37c6d470"
      },
      "source": [
        "pd.crosstab(df_new_2.st_depression,df_new_2.target).plot(kind=\"bar\",figsize=(20,6))\n",
        "plt.title('Heart Disease Frequency for st_depression')\n",
        "plt.xlabel('st_depression')\n",
        "plt.ylabel('Frequency')\n",
        "#plt.savefig('heartDiseaseAndcholesterol.png')\n",
        "plt.show()"
      ],
      "execution_count": 16,
      "outputs": [
        {
          "output_type": "display_data",
          "data": {
            "image/png": "[encoded data removed]",
            "text/plain": [
              "<Figure size 1440x432 with 1 Axes>"
            ]
          },
          "metadata": {
            "tags": []
          }
        }
      ]
    },
    {
      "cell_type": "code",
      "metadata": {
        "id": "ARinShjjC7IQ",
        "colab_type": "code",
        "outputId": "5ec98336-1eb3-46a6-bd59-6a862534bd79",
        "colab": {
          "base_uri": "https://localhost:8080/",
          "height": 323
        }
      },
      "source": [
        "df_new_2.nunique()"
      ],
      "execution_count": 17,
      "outputs": [
        {
          "output_type": "execute_result",
          "data": {
            "text/plain": [
              "age                               41\n",
              "sex                                2\n",
              "chest_pain_type                    4\n",
              "resting_blood_pressure            50\n",
              "cholesterol                      152\n",
              "fasting_blood_sugar                2\n",
              "rest_ecg                           3\n",
              "max_heart_rate_achieved           91\n",
              "exercise_induced_angina            2\n",
              "st_depression                     40\n",
              "st_slope                           3\n",
              "num_major_vessels                  4\n",
              "thalassemia                        3\n",
              "target                             2\n",
              "age_range                          5\n",
              "resting_blood_pressure_levels      5\n",
              "cholesterol_levels                 3\n",
              "dtype: int64"
            ]
          },
          "metadata": {
            "tags": []
          },
          "execution_count": 17
        }
      ]
    },
    {
      "cell_type": "code",
      "metadata": {
        "id": "bPnkxbrO1PM5",
        "colab_type": "code",
        "outputId": "eaf62f8b-13b1-4401-cfe9-d68032f22b26",
        "colab": {
          "base_uri": "https://localhost:8080/",
          "height": 102
        }
      },
      "source": [
        "new_df = df_new_2.drop(columns=['age','resting_blood_pressure','cholesterol'])\n",
        "new_df.columns"
      ],
      "execution_count": 18,
      "outputs": [
        {
          "output_type": "execute_result",
          "data": {
            "text/plain": [
              "Index(['sex', 'chest_pain_type', 'fasting_blood_sugar', 'rest_ecg',\n",
              "       'max_heart_rate_achieved', 'exercise_induced_angina', 'st_depression',\n",
              "       'st_slope', 'num_major_vessels', 'thalassemia', 'target', 'age_range',\n",
              "       'resting_blood_pressure_levels', 'cholesterol_levels'],\n",
              "      dtype='object')"
            ]
          },
          "metadata": {
            "tags": []
          },
          "execution_count": 18
        }
      ]
    },
    {
      "cell_type": "code",
      "metadata": {
        "id": "C4ZAa45a2JIg",
        "colab_type": "code",
        "outputId": "9f7d1a43-a506-48ef-be6f-522195f273b8",
        "colab": {
          "base_uri": "https://localhost:8080/",
          "height": 479
        }
      },
      "source": [
        "#binary encoding for categorical variable\n",
        "!pip install category_encoders\n",
        "import category_encoders as ce\n",
        "\n",
        "encoder = ce.BinaryEncoder(cols=['chest_pain_type', 'rest_ecg',\n",
        "        'st_slope', 'num_major_vessels', 'thalassemia',\n",
        "        'age_range', 'resting_blood_pressure_levels',\n",
        "       'cholesterol_levels'])\n",
        "new_df_1 = encoder.fit_transform(new_df)\n",
        "\n",
        "new_df_1.head()"
      ],
      "execution_count": 20,
      "outputs": [
        {
          "output_type": "stream",
          "text": [
            "Collecting category_encoders\n",
            "\u001b[?25l  Downloading https://files.pythonhosted.org/packages/a0/52/c54191ad3782de633ea3d6ee3bb2837bda0cf3bc97644bb6375cf14150a0/category_encoders-2.1.0-py2.py3-none-any.whl (100kB)\n",
            "\u001b[K     |████████████████████████████████| 102kB 3.3MB/s \n",
            "\u001b[?25hRequirement already satisfied: scikit-learn>=0.20.0 in /usr/local/lib/python3.6/dist-packages (from category_encoders) (0.21.3)\n",
            "Requirement already satisfied: pandas>=0.21.1 in /usr/local/lib/python3.6/dist-packages (from category_encoders) (0.24.2)\n",
            "Requirement already satisfied: scipy>=0.19.0 in /usr/local/lib/python3.6/dist-packages (from category_encoders) (1.3.1)\n",
            "Requirement already satisfied: statsmodels>=0.6.1 in /usr/local/lib/python3.6/dist-packages (from category_encoders) (0.10.1)\n",
            "Requirement already satisfied: patsy>=0.4.1 in /usr/local/lib/python3.6/dist-packages (from category_encoders) (0.5.1)\n",
            "Requirement already satisfied: numpy>=1.11.3 in /usr/local/lib/python3.6/dist-packages (from category_encoders) (1.16.5)\n",
            "Requirement already satisfied: joblib>=0.11 in /usr/local/lib/python3.6/dist-packages (from scikit-learn>=0.20.0->category_encoders) (0.13.2)\n",
            "Requirement already satisfied: python-dateutil>=2.5.0 in /usr/local/lib/python3.6/dist-packages (from pandas>=0.21.1->category_encoders) (2.5.3)\n",
            "Requirement already satisfied: pytz>=2011k in /usr/local/lib/python3.6/dist-packages (from pandas>=0.21.1->category_encoders) (2018.9)\n",
            "Requirement already satisfied: six in /usr/local/lib/python3.6/dist-packages (from patsy>=0.4.1->category_encoders) (1.12.0)\n",
            "Installing collected packages: category-encoders\n",
            "Successfully installed category-encoders-2.1.0\n"
          ],
          "name": "stdout"
        },
        {
          "output_type": "execute_result",
          "data": {
            "text/html": [
              "<div>\n",
              "<style scoped>\n",
              "    .dataframe tbody tr th:only-of-type {\n",
              "        vertical-align: middle;\n",
              "    }\n",
              "\n",
              "    .dataframe tbody tr th {\n",
              "        vertical-align: top;\n",
              "    }\n",
              "\n",
              "    .dataframe thead th {\n",
              "        text-align: right;\n",
              "    }\n",
              "</style>\n",
              "<table border=\"1\" class=\"dataframe\">\n",
              "  <thead>\n",
              "    <tr style=\"text-align: right;\">\n",
              "      <th></th>\n",
              "      <th>sex</th>\n",
              "      <th>chest_pain_type_0</th>\n",
              "      <th>chest_pain_type_1</th>\n",
              "      <th>chest_pain_type_2</th>\n",
              "      <th>fasting_blood_sugar</th>\n",
              "      <th>rest_ecg_0</th>\n",
              "      <th>rest_ecg_1</th>\n",
              "      <th>rest_ecg_2</th>\n",
              "      <th>max_heart_rate_achieved</th>\n",
              "      <th>exercise_induced_angina</th>\n",
              "      <th>st_depression</th>\n",
              "      <th>st_slope_0</th>\n",
              "      <th>st_slope_1</th>\n",
              "      <th>st_slope_2</th>\n",
              "      <th>num_major_vessels_0</th>\n",
              "      <th>num_major_vessels_1</th>\n",
              "      <th>num_major_vessels_2</th>\n",
              "      <th>thalassemia_0</th>\n",
              "      <th>thalassemia_1</th>\n",
              "      <th>thalassemia_2</th>\n",
              "      <th>target</th>\n",
              "      <th>age_range_0</th>\n",
              "      <th>age_range_1</th>\n",
              "      <th>age_range_2</th>\n",
              "      <th>age_range_3</th>\n",
              "      <th>resting_blood_pressure_levels_0</th>\n",
              "      <th>resting_blood_pressure_levels_1</th>\n",
              "      <th>resting_blood_pressure_levels_2</th>\n",
              "      <th>resting_blood_pressure_levels_3</th>\n",
              "      <th>cholesterol_levels_0</th>\n",
              "      <th>cholesterol_levels_1</th>\n",
              "      <th>cholesterol_levels_2</th>\n",
              "    </tr>\n",
              "  </thead>\n",
              "  <tbody>\n",
              "    <tr>\n",
              "      <th>0</th>\n",
              "      <td>1.0</td>\n",
              "      <td>0</td>\n",
              "      <td>0</td>\n",
              "      <td>1</td>\n",
              "      <td>1.0</td>\n",
              "      <td>0</td>\n",
              "      <td>0</td>\n",
              "      <td>1</td>\n",
              "      <td>150.0</td>\n",
              "      <td>0.0</td>\n",
              "      <td>2.3</td>\n",
              "      <td>0</td>\n",
              "      <td>0</td>\n",
              "      <td>1</td>\n",
              "      <td>0</td>\n",
              "      <td>0</td>\n",
              "      <td>1</td>\n",
              "      <td>0</td>\n",
              "      <td>0</td>\n",
              "      <td>1</td>\n",
              "      <td>0</td>\n",
              "      <td>0</td>\n",
              "      <td>1</td>\n",
              "      <td>0</td>\n",
              "      <td>0</td>\n",
              "      <td>0</td>\n",
              "      <td>1</td>\n",
              "      <td>0</td>\n",
              "      <td>0</td>\n",
              "      <td>0</td>\n",
              "      <td>1</td>\n",
              "      <td>0</td>\n",
              "    </tr>\n",
              "    <tr>\n",
              "      <th>1</th>\n",
              "      <td>1.0</td>\n",
              "      <td>0</td>\n",
              "      <td>1</td>\n",
              "      <td>0</td>\n",
              "      <td>0.0</td>\n",
              "      <td>0</td>\n",
              "      <td>0</td>\n",
              "      <td>1</td>\n",
              "      <td>108.0</td>\n",
              "      <td>1.0</td>\n",
              "      <td>1.5</td>\n",
              "      <td>0</td>\n",
              "      <td>1</td>\n",
              "      <td>0</td>\n",
              "      <td>0</td>\n",
              "      <td>1</td>\n",
              "      <td>0</td>\n",
              "      <td>0</td>\n",
              "      <td>1</td>\n",
              "      <td>0</td>\n",
              "      <td>1</td>\n",
              "      <td>0</td>\n",
              "      <td>1</td>\n",
              "      <td>0</td>\n",
              "      <td>0</td>\n",
              "      <td>0</td>\n",
              "      <td>1</td>\n",
              "      <td>0</td>\n",
              "      <td>0</td>\n",
              "      <td>0</td>\n",
              "      <td>1</td>\n",
              "      <td>1</td>\n",
              "    </tr>\n",
              "    <tr>\n",
              "      <th>2</th>\n",
              "      <td>1.0</td>\n",
              "      <td>0</td>\n",
              "      <td>1</td>\n",
              "      <td>0</td>\n",
              "      <td>0.0</td>\n",
              "      <td>0</td>\n",
              "      <td>0</td>\n",
              "      <td>1</td>\n",
              "      <td>129.0</td>\n",
              "      <td>1.0</td>\n",
              "      <td>2.6</td>\n",
              "      <td>0</td>\n",
              "      <td>1</td>\n",
              "      <td>0</td>\n",
              "      <td>0</td>\n",
              "      <td>1</td>\n",
              "      <td>1</td>\n",
              "      <td>0</td>\n",
              "      <td>1</td>\n",
              "      <td>1</td>\n",
              "      <td>1</td>\n",
              "      <td>0</td>\n",
              "      <td>1</td>\n",
              "      <td>0</td>\n",
              "      <td>0</td>\n",
              "      <td>0</td>\n",
              "      <td>0</td>\n",
              "      <td>1</td>\n",
              "      <td>0</td>\n",
              "      <td>0</td>\n",
              "      <td>1</td>\n",
              "      <td>0</td>\n",
              "    </tr>\n",
              "    <tr>\n",
              "      <th>3</th>\n",
              "      <td>1.0</td>\n",
              "      <td>0</td>\n",
              "      <td>1</td>\n",
              "      <td>1</td>\n",
              "      <td>0.0</td>\n",
              "      <td>0</td>\n",
              "      <td>1</td>\n",
              "      <td>0</td>\n",
              "      <td>187.0</td>\n",
              "      <td>0.0</td>\n",
              "      <td>3.5</td>\n",
              "      <td>0</td>\n",
              "      <td>0</td>\n",
              "      <td>1</td>\n",
              "      <td>0</td>\n",
              "      <td>0</td>\n",
              "      <td>1</td>\n",
              "      <td>0</td>\n",
              "      <td>1</td>\n",
              "      <td>0</td>\n",
              "      <td>0</td>\n",
              "      <td>0</td>\n",
              "      <td>0</td>\n",
              "      <td>0</td>\n",
              "      <td>1</td>\n",
              "      <td>0</td>\n",
              "      <td>0</td>\n",
              "      <td>1</td>\n",
              "      <td>1</td>\n",
              "      <td>0</td>\n",
              "      <td>1</td>\n",
              "      <td>1</td>\n",
              "    </tr>\n",
              "    <tr>\n",
              "      <th>4</th>\n",
              "      <td>0.0</td>\n",
              "      <td>1</td>\n",
              "      <td>0</td>\n",
              "      <td>0</td>\n",
              "      <td>0.0</td>\n",
              "      <td>0</td>\n",
              "      <td>0</td>\n",
              "      <td>1</td>\n",
              "      <td>172.0</td>\n",
              "      <td>0.0</td>\n",
              "      <td>1.4</td>\n",
              "      <td>0</td>\n",
              "      <td>1</td>\n",
              "      <td>1</td>\n",
              "      <td>0</td>\n",
              "      <td>0</td>\n",
              "      <td>1</td>\n",
              "      <td>0</td>\n",
              "      <td>1</td>\n",
              "      <td>0</td>\n",
              "      <td>0</td>\n",
              "      <td>0</td>\n",
              "      <td>0</td>\n",
              "      <td>1</td>\n",
              "      <td>0</td>\n",
              "      <td>0</td>\n",
              "      <td>0</td>\n",
              "      <td>1</td>\n",
              "      <td>1</td>\n",
              "      <td>0</td>\n",
              "      <td>1</td>\n",
              "      <td>0</td>\n",
              "    </tr>\n",
              "  </tbody>\n",
              "</table>\n",
              "</div>"
            ],
            "text/plain": [
              "   sex  chest_pain_type_0  ...  cholesterol_levels_1  cholesterol_levels_2\n",
              "0  1.0                  0  ...                     1                     0\n",
              "1  1.0                  0  ...                     1                     1\n",
              "2  1.0                  0  ...                     1                     0\n",
              "3  1.0                  0  ...                     1                     1\n",
              "4  0.0                  1  ...                     1                     0\n",
              "\n",
              "[5 rows x 32 columns]"
            ]
          },
          "metadata": {
            "tags": []
          },
          "execution_count": 20
        }
      ]
    },
    {
      "cell_type": "code",
      "metadata": {
        "id": "teaYTgvQrko7",
        "colab_type": "code",
        "colab": {}
      },
      "source": [
        ""
      ],
      "execution_count": 0,
      "outputs": []
    },
    {
      "cell_type": "code",
      "metadata": {
        "id": "eySS3C4B3M7Y",
        "colab_type": "code",
        "outputId": "1d41a078-9adb-4432-d114-f65b2e7ddf9b",
        "colab": {
          "base_uri": "https://localhost:8080/",
          "height": 204
        }
      },
      "source": [
        "new_df_1.columns"
      ],
      "execution_count": 21,
      "outputs": [
        {
          "output_type": "execute_result",
          "data": {
            "text/plain": [
              "Index(['sex', 'chest_pain_type_0', 'chest_pain_type_1', 'chest_pain_type_2',\n",
              "       'fasting_blood_sugar', 'rest_ecg_0', 'rest_ecg_1', 'rest_ecg_2',\n",
              "       'max_heart_rate_achieved', 'exercise_induced_angina', 'st_depression',\n",
              "       'st_slope_0', 'st_slope_1', 'st_slope_2', 'num_major_vessels_0',\n",
              "       'num_major_vessels_1', 'num_major_vessels_2', 'thalassemia_0',\n",
              "       'thalassemia_1', 'thalassemia_2', 'target', 'age_range_0',\n",
              "       'age_range_1', 'age_range_2', 'age_range_3',\n",
              "       'resting_blood_pressure_levels_0', 'resting_blood_pressure_levels_1',\n",
              "       'resting_blood_pressure_levels_2', 'resting_blood_pressure_levels_3',\n",
              "       'cholesterol_levels_0', 'cholesterol_levels_1', 'cholesterol_levels_2'],\n",
              "      dtype='object')"
            ]
          },
          "metadata": {
            "tags": []
          },
          "execution_count": 21
        }
      ]
    },
    {
      "cell_type": "code",
      "metadata": {
        "id": "FiPW5jOg3nsI",
        "colab_type": "code",
        "outputId": "57e76b83-4164-4424-ccc8-2412188fc347",
        "colab": {
          "base_uri": "https://localhost:8080/",
          "height": 357
        }
      },
      "source": [
        "#dataframe to numpy array\n",
        "feature_df = new_df_1[['sex', 'chest_pain_type_0', 'chest_pain_type_1', 'chest_pain_type_2',\n",
        "       'fasting_blood_sugar', 'rest_ecg_0', 'rest_ecg_1', 'rest_ecg_2',\n",
        "       'max_heart_rate_achieved', 'exercise_induced_angina', 'st_depression',\n",
        "       'st_slope_0', 'st_slope_1', 'st_slope_2', 'num_major_vessels_0',\n",
        "       'num_major_vessels_1', 'num_major_vessels_2', 'thalassemia_0',\n",
        "       'thalassemia_1', 'thalassemia_2', 'age_range_0',\n",
        "       'age_range_1', 'age_range_2', 'age_range_3',\n",
        "       'resting_blood_pressure_levels_0', 'resting_blood_pressure_levels_1',\n",
        "       'resting_blood_pressure_levels_2', 'resting_blood_pressure_levels_3',\n",
        "       'cholesterol_levels_0', 'cholesterol_levels_1', 'cholesterol_levels_2']]\n",
        "X = np.asarray(feature_df)\n",
        "X[0:5]"
      ],
      "execution_count": 23,
      "outputs": [
        {
          "output_type": "execute_result",
          "data": {
            "text/plain": [
              "array([[  1. ,   0. ,   0. ,   1. ,   1. ,   0. ,   0. ,   1. , 150. ,\n",
              "          0. ,   2.3,   0. ,   0. ,   1. ,   0. ,   0. ,   1. ,   0. ,\n",
              "          0. ,   1. ,   0. ,   0. ,   1. ,   0. ,   0. ,   0. ,   1. ,\n",
              "          0. ,   0. ,   0. ,   1. ,   0. ],\n",
              "       [  1. ,   0. ,   1. ,   0. ,   0. ,   0. ,   0. ,   1. , 108. ,\n",
              "          1. ,   1.5,   0. ,   1. ,   0. ,   0. ,   1. ,   0. ,   0. ,\n",
              "          1. ,   0. ,   1. ,   0. ,   1. ,   0. ,   0. ,   0. ,   1. ,\n",
              "          0. ,   0. ,   0. ,   1. ,   1. ],\n",
              "       [  1. ,   0. ,   1. ,   0. ,   0. ,   0. ,   0. ,   1. , 129. ,\n",
              "          1. ,   2.6,   0. ,   1. ,   0. ,   0. ,   1. ,   1. ,   0. ,\n",
              "          1. ,   1. ,   1. ,   0. ,   1. ,   0. ,   0. ,   0. ,   0. ,\n",
              "          1. ,   0. ,   0. ,   1. ,   0. ],\n",
              "       [  1. ,   0. ,   1. ,   1. ,   0. ,   0. ,   1. ,   0. , 187. ,\n",
              "          0. ,   3.5,   0. ,   0. ,   1. ,   0. ,   0. ,   1. ,   0. ,\n",
              "          1. ,   0. ,   0. ,   0. ,   0. ,   0. ,   1. ,   0. ,   0. ,\n",
              "          1. ,   1. ,   0. ,   1. ,   1. ],\n",
              "       [  0. ,   1. ,   0. ,   0. ,   0. ,   0. ,   0. ,   1. , 172. ,\n",
              "          0. ,   1.4,   0. ,   1. ,   1. ,   0. ,   0. ,   1. ,   0. ,\n",
              "          1. ,   0. ,   0. ,   0. ,   0. ,   1. ,   0. ,   0. ,   0. ,\n",
              "          1. ,   1. ,   0. ,   1. ,   0. ]])"
            ]
          },
          "metadata": {
            "tags": []
          },
          "execution_count": 23
        }
      ]
    },
    {
      "cell_type": "code",
      "metadata": {
        "id": "5_9CBKH8389m",
        "colab_type": "code",
        "outputId": "ecc0c97a-304f-4720-a4b2-118f4533f3cc",
        "colab": {
          "base_uri": "https://localhost:8080/",
          "height": 34
        }
      },
      "source": [
        "y = np.asarray(new_df_1['target'])\n",
        "y[0:5]"
      ],
      "execution_count": 24,
      "outputs": [
        {
          "output_type": "execute_result",
          "data": {
            "text/plain": [
              "array([0, 1, 1, 0, 0])"
            ]
          },
          "metadata": {
            "tags": []
          },
          "execution_count": 24
        }
      ]
    },
    {
      "cell_type": "code",
      "metadata": {
        "id": "HIC3zNKZG6LE",
        "colab_type": "code",
        "outputId": "63bac3cf-98fc-4c1b-dd07-bc7af04a3daa",
        "colab": {
          "base_uri": "https://localhost:8080/",
          "height": 51
        }
      },
      "source": [
        "X_train, X_test, y_train, y_test = train_test_split(X, y, test_size=0.2, random_state=42)\n",
        "print('Train set:', X_train.shape, y_train.shape)\n",
        "print('Test set:', X_test.shape, y_test.shape)"
      ],
      "execution_count": 25,
      "outputs": [
        {
          "output_type": "stream",
          "text": [
            "Train set: (237, 32) (237,)\n",
            "Test set: (60, 32) (60,)\n"
          ],
          "name": "stdout"
        }
      ]
    },
    {
      "cell_type": "code",
      "metadata": {
        "id": "Mw-T_kdHHHoE",
        "colab_type": "code",
        "colab": {}
      },
      "source": [
        "import xgboost as xgb\n",
        "#!pip install hyperopt\n",
        "from hyperopt import fmin, tpe, hp, Trials, STATUS_OK\n",
        "\n",
        "\n",
        "xgdmat = xgb.DMatrix(X_train, y_train) # Create our DMatrix to make XGBoost more efficient"
      ],
      "execution_count": 0,
      "outputs": []
    },
    {
      "cell_type": "code",
      "metadata": {
        "id": "FvCuH4QEP6zW",
        "colab_type": "code",
        "outputId": "4dd20e4f-5702-41a1-9e54-4a29d264c00a",
        "colab": {
          "base_uri": "https://localhost:8080/",
          "height": 68
        }
      },
      "source": [
        "def step_xgb(params):\n",
        "        xgb_cv = xgb.cv(params=params,\n",
        "                    dtrain=xgdmat,\n",
        "                    num_boost_round=1000,\n",
        "                    early_stopping_rounds=50,\n",
        "                    nfold=3,\n",
        "                    as_pandas=True)\n",
        "        score = (xgb_cv[\"test-error-mean\"]).tail(1)\n",
        "        #print(cname, score, len(cv), params)\n",
        "        return dict(loss=score, status=STATUS_OK)\n",
        "      \n",
        "space_xgb = dict(\n",
        "            max_depth = hp.choice('max_depth', range(2, 8)),\n",
        "            subsample = hp.quniform('subsample', 0.6, 1, 0.05),\n",
        "            colsample_bytree = hp.quniform('colsample_bytree', 0.6, 1, 0.05),\n",
        "            learning_rate = hp.quniform('learning_rate', 0.005, 0.03, 0.005),\n",
        "            min_child_weight = hp.quniform('min_child_weight', 1, 6, 1),\n",
        "            gamma = hp.quniform('gamma', 0.5, 10, 0.05),\n",
        "\n",
        "            objective = 'binary:logistic',\n",
        "            #eval_metric = 'auc',\n",
        "        )\n",
        "\n",
        "trials = Trials()\n",
        "best = fmin(step_xgb, space_xgb, algo=tpe.suggest, max_evals=2000, trials = trials)\n",
        "print('best:')\n",
        "print(best)"
      ],
      "execution_count": 27,
      "outputs": [
        {
          "output_type": "stream",
          "text": [
            "100%|██████████| 2000/2000 [15:47<00:00,  1.41it/s, best loss: 0.0]\n",
            "best:\n",
            "{'colsample_bytree': 0.8500000000000001, 'gamma': 3.8000000000000003, 'learning_rate': 0.025, 'max_depth': 2, 'min_child_weight': 2.0, 'subsample': 0.75}\n"
          ],
          "name": "stdout"
        }
      ]
    },
    {
      "cell_type": "code",
      "metadata": {
        "id": "gbesVLFKIR01",
        "colab_type": "code",
        "colab": {}
      },
      "source": [
        "final_gb = xgb.train(best, xgdmat, num_boost_round = 1000)"
      ],
      "execution_count": 0,
      "outputs": []
    },
    {
      "cell_type": "code",
      "metadata": {
        "id": "68drFspGIU4Q",
        "colab_type": "code",
        "outputId": "f72213d7-3746-480e-88ea-5d8fd7cb8589",
        "colab": {
          "base_uri": "https://localhost:8080/",
          "height": 335
        }
      },
      "source": [
        "%matplotlib inline\n",
        "import seaborn as sns\n",
        "sns.set(font_scale = 1.5)\n",
        "xgb.plot_importance(final_gb)"
      ],
      "execution_count": 29,
      "outputs": [
        {
          "output_type": "execute_result",
          "data": {
            "text/plain": [
              "<matplotlib.axes._subplots.AxesSubplot at 0x7fe2c4d607f0>"
            ]
          },
          "metadata": {
            "tags": []
          },
          "execution_count": 29
        },
        {
          "output_type": "display_data",
          "data": {
            "image/png": "[encoded data removed]",
            "text/plain": [
              "<Figure size 432x288 with 1 Axes>"
            ]
          },
          "metadata": {
            "tags": []
          }
        }
      ]
    },
    {
      "cell_type": "code",
      "metadata": {
        "id": "1MeR6CLhIZJZ",
        "colab_type": "code",
        "outputId": "b4a6c542-b46b-43d0-86b8-9b0b12d849b5",
        "colab": {
          "base_uri": "https://localhost:8080/",
          "height": 34
        }
      },
      "source": [
        "importances = final_gb.get_fscore()\n",
        "importances"
      ],
      "execution_count": 30,
      "outputs": [
        {
          "output_type": "execute_result",
          "data": {
            "text/plain": [
              "{'f19': 4, 'f20': 50}"
            ]
          },
          "metadata": {
            "tags": []
          },
          "execution_count": 30
        }
      ]
    },
    {
      "cell_type": "code",
      "metadata": {
        "id": "qPSfmX6EIbkh",
        "colab_type": "code",
        "colab": {}
      },
      "source": [
        "testdmat = xgb.DMatrix(X_test)"
      ],
      "execution_count": 0,
      "outputs": []
    },
    {
      "cell_type": "code",
      "metadata": {
        "id": "0nobB0fzIdx4",
        "colab_type": "code",
        "outputId": "115e1fdc-2a61-4355-c84b-b1c0cd8bc661",
        "colab": {
          "base_uri": "https://localhost:8080/",
          "height": 238
        }
      },
      "source": [
        "#prediction\n",
        "y_pred = final_gb.predict(testdmat) # Predict using our testdmat\n",
        "y_pred"
      ],
      "execution_count": 32,
      "outputs": [
        {
          "output_type": "execute_result",
          "data": {
            "text/plain": [
              "array([0.12577653, 0.8290089 , 0.12577653, 0.8290089 , 0.12577653,\n",
              "       0.12577653, 0.12577653, 0.16130173, 0.8645341 , 0.12577653,\n",
              "       0.8645341 , 0.12577653, 0.12577653, 0.12577653, 0.12577653,\n",
              "       0.12577653, 0.16130173, 0.16130173, 0.8645341 , 0.12577653,\n",
              "       0.8645341 , 0.8645341 , 0.8645341 , 0.12577653, 0.8645341 ,\n",
              "       0.12577653, 0.8645341 , 0.8645341 , 0.12577653, 0.12577653,\n",
              "       0.16130173, 0.12577653, 0.8645341 , 0.12577653, 0.12577653,\n",
              "       0.12577653, 0.8645341 , 0.12577653, 0.8645341 , 0.8645341 ,\n",
              "       0.12577653, 0.8645341 , 0.8645341 , 0.12577653, 0.12577653,\n",
              "       0.8645341 , 0.12577653, 0.8645341 , 0.12577653, 0.12577653,\n",
              "       0.12577653, 0.8645341 , 0.8290089 , 0.12577653, 0.8290089 ,\n",
              "       0.8645341 , 0.12577653, 0.12577653, 0.8290089 , 0.16130173],\n",
              "      dtype=float32)"
            ]
          },
          "metadata": {
            "tags": []
          },
          "execution_count": 32
        }
      ]
    },
    {
      "cell_type": "code",
      "metadata": {
        "id": "VfczDlnBIgdB",
        "colab_type": "code",
        "outputId": "dfd965dd-72f8-4b49-e3c3-cb1aa8d4086f",
        "colab": {
          "base_uri": "https://localhost:8080/",
          "height": 85
        }
      },
      "source": [
        "y_pred[y_pred > 0.5] = 1\n",
        "y_pred[y_pred <= 0.5] = 0\n",
        "y_pred"
      ],
      "execution_count": 33,
      "outputs": [
        {
          "output_type": "execute_result",
          "data": {
            "text/plain": [
              "array([0., 1., 0., 1., 0., 0., 0., 0., 1., 0., 1., 0., 0., 0., 0., 0., 0.,\n",
              "       0., 1., 0., 1., 1., 1., 0., 1., 0., 1., 1., 0., 0., 0., 0., 1., 0.,\n",
              "       0., 0., 1., 0., 1., 1., 0., 1., 1., 0., 0., 1., 0., 1., 0., 0., 0.,\n",
              "       1., 1., 0., 1., 1., 0., 0., 1., 0.], dtype=float32)"
            ]
          },
          "metadata": {
            "tags": []
          },
          "execution_count": 33
        }
      ]
    },
    {
      "cell_type": "code",
      "metadata": {
        "id": "8N2O353UIhIR",
        "colab_type": "code",
        "outputId": "028f43c1-3f78-4877-84db-b28388d35e9b",
        "colab": {
          "base_uri": "https://localhost:8080/",
          "height": 34
        }
      },
      "source": [
        "#accuracy score\n",
        "accuracy_score(y_pred, y_test), 1-accuracy_score(y_pred, y_test)"
      ],
      "execution_count": 34,
      "outputs": [
        {
          "output_type": "execute_result",
          "data": {
            "text/plain": [
              "(1.0, 0.0)"
            ]
          },
          "metadata": {
            "tags": []
          },
          "execution_count": 34
        }
      ]
    },
    {
      "cell_type": "code",
      "metadata": {
        "id": "wUtJ1Q7UI_Uf",
        "colab_type": "code",
        "colab": {}
      },
      "source": [
        ""
      ],
      "execution_count": 0,
      "outputs": []
    }
  ]
}